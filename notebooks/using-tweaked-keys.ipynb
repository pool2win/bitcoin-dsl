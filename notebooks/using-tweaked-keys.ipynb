{
 "cells": [
  {
   "cell_type": "markdown",
   "id": "ed339b85-40e6-46b5-aa05-8257391fc1ae",
   "metadata": {},
   "source": [
    "## Running this notebook\n",
    "\n",
    "Just do the following and this notebook will be on your machine.\n",
    "\n",
    "`git clone git@github.com:pool2win/bitcoin-dsl.git`\n",
    "\n",
    "`just lab`"
   ]
  },
  {
   "cell_type": "code",
   "execution_count": null,
   "id": "2c146b4b-fb57-495e-8a5a-4dc5a650cb98",
   "metadata": {},
   "outputs": [],
   "source": [
    "@alice = key :new\n",
    "@bob = key :new"
   ]
  },
  {
   "cell_type": "code",
   "execution_count": null,
   "id": "3399d898-3014-4e56-b688-ff5592450906",
   "metadata": {},
   "outputs": [],
   "source": [
    "@tweak = 'beef'\n",
    "@alice_tweaked_public_key = tweak_public_key @alice, with: @tweak\n",
    "@alice_tweaked_private_key = tweak_private_key @alice, with: @tweak"
   ]
  },
  {
   "cell_type": "code",
   "execution_count": null,
   "id": "e162c0e4-2d82-45df-ac73-dcd6766259c9",
   "metadata": {},
   "outputs": [],
   "source": [
    "extend_chain to: @alice_tweaked_public_key, num_blocks: 101"
   ]
  },
  {
   "cell_type": "code",
   "execution_count": null,
   "id": "d1be5dee-67fe-43d3-91de-29c7ebf32fd7",
   "metadata": {},
   "outputs": [],
   "source": [
    "@coinbase_to_spend = spendable_coinbase_for @alice_tweaked_public_key"
   ]
  },
  {
   "cell_type": "code",
   "execution_count": null,
   "id": "35e93654-2102-4adc-9f58-2cbd2f8af490",
   "metadata": {},
   "outputs": [],
   "source": [
    "@to_bob = transaction inputs: [ { tx: @coinbase_to_spend, vout: 0, script_sig: 'sig:wpkh(@alice_tweaked_private_key)'} ],\n",
    "                      outputs: [ { amount: 49.999.sats, descriptor: 'wpkh(@bob)' } ]"
   ]
  },
  {
   "cell_type": "code",
   "execution_count": null,
   "id": "e7abcf74-87df-4c8d-8d3f-50627caf507f",
   "metadata": {},
   "outputs": [],
   "source": [
    "assert_mempool_accept @to_bob"
   ]
  },
  {
   "cell_type": "code",
   "execution_count": null,
   "id": "70408b4f-1de9-42ac-a254-c93971a234ef",
   "metadata": {},
   "outputs": [],
   "source": [
    "broadcast @to_bob"
   ]
  },
  {
   "cell_type": "code",
   "execution_count": null,
   "id": "22bae315-cedc-44ae-9bd4-f83164d8b511",
   "metadata": {},
   "outputs": [],
   "source": [
    "confirm transaction: @to_bob"
   ]
  },
  {
   "cell_type": "code",
   "execution_count": null,
   "id": "3471c059-3d2c-46c3-a29c-ef2eea577576",
   "metadata": {},
   "outputs": [],
   "source": [
    "assert_output_is_spent transaction: @coinbase_to_spend, vout: 0"
   ]
  }
 ],
 "metadata": {
  "kernelspec": {
   "display_name": "Bitcoin DSL",
   "language": "ruby",
   "name": "ruby"
  },
  "language_info": {
   "file_extension": ".rb",
   "mimetype": "application/x-ruby",
   "name": "ruby",
   "version": "3.2.2"
  }
 },
 "nbformat": 4,
 "nbformat_minor": 5
}
