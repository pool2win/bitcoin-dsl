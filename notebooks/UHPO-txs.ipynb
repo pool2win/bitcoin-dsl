{
 "cells": [
  {
   "cell_type": "markdown",
   "id": "49fbe8d3-8718-4228-bad5-ee13f35126f1",
   "metadata": {},
   "source": [
    "## Unspent Hasher PayOut (UHPO) Mechanism\n",
    "\n",
    "In this NoteBook, we tried to implement all 3 types of Transactions from UHPO model.\n",
    "\n",
    "Reference: https://gist.github.com/pool2win/77bb9b98f9f3b8c0f90963343c3c840f\n",
    "\n",
    "![alt text](https://gist.githubusercontent.com/pool2win/77bb9b98f9f3b8c0f90963343c3c840f/raw/8fa2481728e7c12d553608af23ca6e551c7c90c1/uhpo-success.png \"UHPO\")\n",
    "\n"
   ]
  },
  {
   "cell_type": "markdown",
   "id": "26e6d294-9cff-4c7c-a1de-39406d858605",
   "metadata": {},
   "source": [
    "### Tx - Flow\n",
    "- ALICE , BOB , CHARLIE , DAVID create their respective 1-4 blocks\n",
    "- `payoutUpdate` is submitted on Time for 1-3 blocks after coinbase maturity\n",
    "- `payoutUpdate` for coinbase 4 is not submitted on time, hence `payoutsettlement` is submitted to chain.\n",
    "- After timelock expiry for coinbase 4 bob redeems timelock funds "
   ]
  },
  {
   "cell_type": "code",
   "execution_count": 40,
   "id": "c8b90e87-f912-4ecb-a3ca-e24011f322bc",
   "metadata": {},
   "outputs": [
    {
     "name": "stdout",
     "output_type": "stream",
     "text": [
      "mkdir -p /tmp/x &&              bitcoind -datadir=/tmp/x -chain=regtest              -rpcuser=test -rpcpassword=test -daemonwait -txindex -debug=1\n"
     ]
    },
    {
     "data": {
      "text/plain": [
       "#<Proc:0x00007f08c0c91970 (irb):28>"
      ]
     },
     "execution_count": 40,
     "metadata": {},
     "output_type": "execute_result"
    }
   ],
   "source": [
    " \n",
    "\n",
    "# reset regtest node\n",
    "node :reset\n",
    "\n",
    "# creating new key-pairs \n",
    "@alice = key :new \n",
    "@bob = key :new\n",
    "@charlie = key :new\n",
    "@david = key :new\n",
    "\n",
    "# FROST keypairs for respective blocks\n",
    "@poolkey_1 = key :new\n",
    "@poolkey_2 = key :new\n",
    "@poolkey_3 = key :new\n",
    "@poolkey_4 = key :new\n",
    "\n",
    "# miners can only spend funds after `x` blocks of coinbase maturity\n",
    "@alice_timelock = \"10 OP_CSV OP_DROP @alice OP_CHECKSIG\"\n",
    "@bob_timelock = \"10 OP_CSV OP_DROP @bob OP_CHECKSIG\"\n",
    "@charlie_timelock = \"10 OP_CSV OP_DROP @charlie OP_CHECKSIG\" \n",
    "@david_timelock = \"10 OP_CSV OP_DROP @david OP_CHECKSIG\"\n",
    "\n",
    "\n",
    "# coinbase outputs are taproot address where script_pub_key = FROST_POOL_PUBKEY + G*( MAST )\n",
    "# where MAST has a depth of level 1 with only timelock contract\n",
    "# funds can either be spent via frost-signatures or timelock script path\n",
    "\n",
    "transition :build_braidpool_blocks do\n",
    "    extend_chain taproot: { internal_key: @poolkey_1, leaves: [ @alice_timelock]}\n",
    "    extend_chain taproot: { internal_key: @poolkey_2, leaves: [ @bob_timelock]}\n",
    "    extend_chain taproot: { internal_key: @poolkey_3, leaves: [ @charlie_timelock]}\n",
    "    extend_chain taproot: { internal_key: @poolkey_4, leaves: [ @david_timelock]}\n",
    "end"
   ]
  },
  {
   "cell_type": "code",
   "execution_count": 41,
   "id": "f4891ddc-e5f6-4d5a-967a-0ab0a40e0fa3",
   "metadata": {},
   "outputs": [
    {
     "data": {
      "text/plain": [
       "#<Proc:0x00007f08bfdc7b10 (irb):1>"
      ]
     },
     "execution_count": 41,
     "metadata": {},
     "output_type": "execute_result"
    }
   ],
   "source": [
    "\n",
    "transition :payout_update_for_block_1 do\n",
    "    extend_chain num_blocks: 97\n",
    "\n",
    "    # Case blockheight is 101 (coinbase maturity for block 1) and payout update\n",
    "    @poolkey_101 = key :new # using dummy keypair for now later will be replced with FROST group pubkey\n",
    "\n",
    "    @poolkey_timelock_101 = key :new \n",
    "    @timelock_101 = \"10 OP_CSV OP_DROP @poolkey_timelock_101 OP_CHECKSIG\"\n",
    "    \n",
    "    @alice_coinbase_1 = get_coinbase_at 1\n",
    "    \n",
    "    @payout_update_101 = transaction inputs: [\n",
    "                                    {\n",
    "                                        tx: @alice_coinbase_1,\n",
    "                                        vout: 0,\n",
    "                                        script_sig: { keypath: @poolkey_1 } \n",
    "                                    }\n",
    "                                ],\n",
    "                                outputs: [\n",
    "                                         {\n",
    "                                           taproot: { internal_key: @poolkey_101, leaves: [ @timelock_101 ] }, # KP - We need leaves here. Don't we? In case the frost signature can't be created. \n",
    "                                                                                                # KP - Look at Payout Update transactions in the image above. There is one leaf with an OR condition.\n",
    "                                           amount: 49.999.sats\n",
    "                                         }\n",
    "                                    ]\n",
    "    \n",
    "    broadcast @payout_update_101\n",
    "    confirm transaction: @payout_update_101\n",
    "end"
   ]
  },
  {
   "cell_type": "code",
   "execution_count": 42,
   "id": "8a55e312-6470-4342-92c7-840b2cda798b",
   "metadata": {},
   "outputs": [
    {
     "data": {
      "text/plain": [
       "#<Proc:0x00007f08bfe1c228 (irb):2>"
      ]
     },
     "execution_count": 42,
     "metadata": {},
     "output_type": "execute_result"
    }
   ],
   "source": [
    "# payout update transaction which merges past payout funds and coinbase block 2 funds\n",
    "\n",
    "transition :payout_update_for_block_2 do\n",
    "    @bob_coinbase_2 = get_coinbase_at 2\n",
    "\n",
    "    @poolkey_timelock_102 = key :new \n",
    "    @timelock_102 = \"10 OP_CSV OP_DROP @poolkey_timelock_102 OP_CHECKSIG\"\n",
    "\n",
    "    @poolkey_102 = key :new \n",
    "    @payout_update_102 = transaction inputs: [\n",
    "                                    {\n",
    "                                        tx: @bob_coinbase_2,\n",
    "                                        vout: 0,\n",
    "                                        script_sig: { keypath: @poolkey_2 }\n",
    "                                    }, { \n",
    "                                        tx: @payout_update_101,\n",
    "                                         vout: 0,\n",
    "                                         script_sig: { keypath: @poolkey_101 }, \n",
    "                                         sighash: :all\n",
    "                                    }\n",
    "                                ],\n",
    "                                outputs: [\n",
    "                                         {\n",
    "                                           taproot: { internal_key: @poolkey_102, leaves: [ @timelock_102 ] }, \n",
    "                                           amount: 99.990.sats\n",
    "                                         }\n",
    "                                    ]\n",
    "    \n",
    "    broadcast @payout_update_102\n",
    "    confirm transaction: @payout_update_102\n",
    "end"
   ]
  },
  {
   "cell_type": "code",
   "execution_count": 43,
   "id": "89127d33-d74e-4191-9ba2-920391ff51cf",
   "metadata": {},
   "outputs": [
    {
     "data": {
      "text/plain": [
       "#<Proc:0x00007f08bfe11e18 (irb):2>"
      ]
     },
     "execution_count": 43,
     "metadata": {},
     "output_type": "execute_result"
    }
   ],
   "source": [
    "# payout update transaction which merges past payout funds and coinbase block 3 funds\n",
    "\n",
    "transition :payout_update_for_block_3 do\n",
    "    @charlie_coinbase_3 = get_coinbase_at 3\n",
    "\n",
    "    @poolkey_timelock_103 = key :new \n",
    "    @timelock_103 = \"10 OP_CSV OP_DROP @poolkey_timelock_103 OP_CHECKSIG\"\n",
    "\n",
    "    @poolkey_103 = key :new \n",
    "    @payout_update_103 = transaction inputs: [\n",
    "                                    {\n",
    "                                        tx: @charlie_coinbase_3,\n",
    "                                        vout: 0,\n",
    "                                        script_sig: { keypath: @poolkey_3 }\n",
    "                                    }, { \n",
    "                                        tx: @payout_update_102,\n",
    "                                         vout: 0,\n",
    "                                         script_sig: { keypath: @poolkey_102 }, \n",
    "                                         sighash: :all\n",
    "                                    }\n",
    "                                ],\n",
    "                                outputs: [\n",
    "                                         {\n",
    "                                           taproot: { internal_key: @poolkey_103, leaves: [ @timelock_103 ] }, \n",
    "                                           amount: 149.980.sats\n",
    "                                         }\n",
    "                                    ]\n",
    "    \n",
    "    broadcast @payout_update_103\n",
    "    confirm transaction: @payout_update_103\n",
    "end"
   ]
  },
  {
   "cell_type": "code",
   "execution_count": 44,
   "id": "621dcf00-6876-4e4f-838e-1d3546d21891",
   "metadata": {},
   "outputs": [
    {
     "data": {
      "text/plain": [
       "#<Proc:0x00007f08bfe25f08 (irb):2>"
      ]
     },
     "execution_count": 44,
     "metadata": {},
     "output_type": "execute_result"
    }
   ],
   "source": [
    "# case: payout-settlement (i.e; payoutUpdate for coinbase of 4th block is not submitted in time `10 blocks` )\n",
    "\n",
    "transition :payout_settlement do\n",
    "    extend_chain num_blocks: 10\n",
    "    \n",
    "    @payout_settlement_103 = transaction inputs: [\n",
    "                                 { \n",
    "                                    tx: @payout_update_103,\n",
    "                                     vout: 0,\n",
    "                                     script_sig: { leaf_index: 0, sig: 'sig:@poolkey_timelock_103' }, \n",
    "                                     sighash: :all,\n",
    "                                     csv: 10\n",
    "                                }\n",
    "                            ],\n",
    "                            outputs: [\n",
    "                                 { descriptor: 'wpkh(@alice)', amount: 30.sats },\n",
    "                                 { descriptor: 'wpkh(@alice)', amount: 40.sats },\n",
    "                                 { descriptor: 'wpkh(@alice)', amount: 30.sats },\n",
    "                                 { descriptor: 'wpkh(@alice)', amount: 49.970.sats } \n",
    "                                ]\n",
    "\n",
    "    broadcast @payout_settlement_103\n",
    "    confirm transaction: @payout_settlement_103\n",
    "end\n"
   ]
  },
  {
   "cell_type": "code",
   "execution_count": 45,
   "id": "f5b267a3-6476-439c-8ad6-11ad37652f15",
   "metadata": {},
   "outputs": [
    {
     "data": {
      "text/plain": [
       "#<Proc:0x00007f08bfadb9d8 (irb):4>"
      ]
     },
     "execution_count": 45,
     "metadata": {},
     "output_type": "execute_result"
    }
   ],
   "source": [
    "# fail-case since payout update is not submitted in time bob can spend funds from coinbase 4 after 50 more blocks of maturity\n",
    "\n",
    "# KP - Similar to this fail case we are missing the case when the frost signature completely fails. That is, more than threshold parties have been corrupted or are unreachable.\n",
    "\n",
    "transition :david_spends_funds_after_timeout do\n",
    "    extend_chain num_blocks: 10\n",
    "\n",
    "    @david_coinbase_4 = get_coinbase_at 4\n",
    "    @david_failure_close_tx = transaction inputs: [\n",
    "                                    {\n",
    "                                        tx: @david_coinbase_4,\n",
    "                                        vout: 0,\n",
    "                                        script_sig: { leaf_index: 0, sig: 'sig:@david' },\n",
    "                                        csv: 10\n",
    "                                    }\n",
    "                                ],\n",
    "                                outputs: [\n",
    "                                         {\n",
    "                                           taproot: { internal_key: @poolkey_101, leaves: [] }, \n",
    "                                           amount: 49.999.sats\n",
    "                                         }\n",
    "                                    ]\n",
    "    \n",
    "    broadcast @david_failure_close_tx\n",
    "    confirm transaction: @david_failure_close_tx\n",
    "end\n"
   ]
  },
  {
   "cell_type": "code",
   "execution_count": 46,
   "id": "bb88dd0d-9071-4fec-a140-0e4262bb32f6",
   "metadata": {},
   "outputs": [
    {
     "name": "stdout",
     "output_type": "stream",
     "text": [
      "I, [2024-05-20T14:13:18.349434 #18]  INFO -- : Start build_braidpool_blocks\n",
      "I, [2024-05-20T14:13:20.796201 #18]  INFO -- : Finish build_braidpool_blocks\n",
      "I, [2024-05-20T14:13:20.796462 #18]  INFO -- : Start payout_update_for_block_1\n",
      "I, [2024-05-20T14:13:22.524284 #18]  INFO -- : Finish payout_update_for_block_1\n",
      "I, [2024-05-20T14:13:22.524531 #18]  INFO -- : Start payout_update_for_block_2\n",
      "I, [2024-05-20T14:13:24.207948 #18]  INFO -- : Finish payout_update_for_block_2\n",
      "I, [2024-05-20T14:13:24.208198 #18]  INFO -- : Start payout_update_for_block_3\n",
      "I, [2024-05-20T14:13:25.804939 #18]  INFO -- : Finish payout_update_for_block_3\n",
      "I, [2024-05-20T14:13:25.805224 #18]  INFO -- : Start payout_settlement\n",
      "I, [2024-05-20T14:13:28.119088 #18]  INFO -- : Finish payout_settlement\n",
      "I, [2024-05-20T14:13:28.120042 #18]  INFO -- : Start david_spends_funds_after_timeout\n",
      "I, [2024-05-20T14:13:29.677666 #18]  INFO -- : Finish david_spends_funds_after_timeout\n"
     ]
    },
    {
     "data": {
      "text/plain": [
       "[:build_braidpool_blocks, :payout_update_for_block_1, :payout_update_for_block_2, :payout_update_for_block_3, :payout_settlement, :david_spends_funds_after_timeout]"
      ]
     },
     "execution_count": 46,
     "metadata": {},
     "output_type": "execute_result"
    }
   ],
   "source": [
    "run_transitions :build_braidpool_blocks,\n",
    "                :payout_update_for_block_1,\n",
    "                :payout_update_for_block_2,\n",
    "                :payout_update_for_block_3,\n",
    "                :payout_settlement,\n",
    "                :david_spends_funds_after_timeout"
   ]
  },
  {
   "cell_type": "code",
   "execution_count": null,
   "id": "e4ed8955-d727-4215-b0d7-45c4c1867d73",
   "metadata": {},
   "outputs": [],
   "source": []
  }
 ],
 "metadata": {
  "kernelspec": {
   "display_name": "Bitcoin DSL",
   "language": "ruby",
   "name": "ruby"
  },
  "language_info": {
   "file_extension": ".rb",
   "mimetype": "application/x-ruby",
   "name": "ruby",
   "version": "3.2.4"
  }
 },
 "nbformat": 4,
 "nbformat_minor": 5
}
