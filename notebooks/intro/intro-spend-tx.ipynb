{
 "cells": [
  {
   "cell_type": "code",
   "execution_count": null,
   "id": "31af84dd-0758-4593-be6d-dd828741487a",
   "metadata": {},
   "outputs": [],
   "source": [
    "node :reset"
   ]
  },
  {
   "cell_type": "code",
   "execution_count": null,
   "id": "84247c3f-2951-469f-bd54-b2c71f94de20",
   "metadata": {},
   "outputs": [],
   "source": [
    "@alice = key :new"
   ]
  },
  {
   "cell_type": "code",
   "execution_count": null,
   "id": "bd93a56f-65d2-4952-952e-75fa7d96f9d5",
   "metadata": {},
   "outputs": [],
   "source": [
    "@bob = key :new"
   ]
  },
  {
   "cell_type": "code",
   "execution_count": null,
   "id": "03436196-9609-4c13-9c23-4aa21d6d163b",
   "metadata": {},
   "outputs": [],
   "source": [
    "extend_chain to: @alice, num_blocks: 100"
   ]
  },
  {
   "cell_type": "code",
   "execution_count": null,
   "id": "38d68447-bb7b-405b-94c2-bc4405b3d0c4",
   "metadata": {},
   "outputs": [],
   "source": [
    "extend_chain"
   ]
  },
  {
   "cell_type": "code",
   "execution_count": null,
   "id": "b6757221-66f7-4031-9dbb-e5f7a8bbd4f0",
   "metadata": {},
   "outputs": [],
   "source": [
    "@alice_coinbase = spendable_coinbase_for @alice"
   ]
  },
  {
   "cell_type": "code",
   "execution_count": null,
   "id": "813a0ea0-69be-49e6-a82f-8cd5e8e71b67",
   "metadata": {},
   "outputs": [],
   "source": [
    "@alice_to_bob = transaction inputs: [ {tx: @alice_coinbase, vout: 0, script_sig: 'sig:wpkh(@alice)'} ],\n",
    "                            outputs: [ { amount: 49.99.sats, descriptor: 'wpkh(@bob)' } ]"
   ]
  },
  {
   "cell_type": "code",
   "execution_count": null,
   "id": "5829e786-a456-425b-aee6-58dfef374eea",
   "metadata": {},
   "outputs": [],
   "source": [
    "assert_mempool_accept @alice_to_bob"
   ]
  },
  {
   "cell_type": "code",
   "execution_count": null,
   "id": "3d041003-456f-41ad-925e-24a4e922df3f",
   "metadata": {},
   "outputs": [],
   "source": [
    "assert_output_is_not_spent transaction: @alice_coinbase, vout: 0"
   ]
  },
  {
   "cell_type": "code",
   "execution_count": null,
   "id": "b6edc7f6-876f-46b5-a9ea-3c6865da8c5e",
   "metadata": {},
   "outputs": [],
   "source": [
    "broadcast @alice_to_bob"
   ]
  },
  {
   "cell_type": "code",
   "execution_count": null,
   "id": "8ddc3434-0b79-4221-86ab-45589ba4eb1f",
   "metadata": {},
   "outputs": [],
   "source": [
    "confirm transaction: @alice_to_bob"
   ]
  },
  {
   "cell_type": "code",
   "execution_count": null,
   "id": "52e14f12-a965-477c-b9e7-36b1ca5a78bc",
   "metadata": {},
   "outputs": [],
   "source": [
    "assert_output_is_spent transaction: @alice_coinbase, vout: 0"
   ]
  },
  {
   "cell_type": "code",
   "execution_count": null,
   "id": "801c47e7-c056-401e-8140-d056c132d42a",
   "metadata": {},
   "outputs": [],
   "source": [
    "assert_confirmations @alice_coinbase, confirmations: 1"
   ]
  }
 ],
 "metadata": {
  "kernelspec": {
   "display_name": "Bitcoin DSL",
   "language": "ruby",
   "name": "ruby"
  },
  "language_info": {
   "file_extension": ".rb",
   "mimetype": "application/x-ruby",
   "name": "ruby",
   "version": "3.3.0"
  }
 },
 "nbformat": 4,
 "nbformat_minor": 5
}
