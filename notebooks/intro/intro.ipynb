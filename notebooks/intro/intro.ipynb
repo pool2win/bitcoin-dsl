{
 "cells": [
  {
   "cell_type": "code",
   "execution_count": null,
   "id": "a810b7db-9bc7-4d37-bf56-e546711e7a58",
   "metadata": {},
   "outputs": [],
   "source": [
    "get_height"
   ]
  },
  {
   "cell_type": "code",
   "execution_count": null,
   "id": "f0e947d5-6b3b-4ce0-ab2f-4603b5dd4f12",
   "metadata": {},
   "outputs": [],
   "source": [
    "getblockchaininfo"
   ]
  },
  {
   "cell_type": "code",
   "execution_count": null,
   "id": "f49406eb-787e-4ca9-9468-08a4ad975ef5",
   "metadata": {},
   "outputs": [],
   "source": [
    "@genesis = getblockhash height: 0"
   ]
  },
  {
   "cell_type": "code",
   "execution_count": null,
   "id": "cd6cad83-7d32-496c-8869-3054ed925cff",
   "metadata": {},
   "outputs": [],
   "source": [
    "getblock blockhash: @genesis"
   ]
  },
  {
   "cell_type": "code",
   "execution_count": null,
   "id": "3096f412-af28-414f-afab-e2e48665774b",
   "metadata": {},
   "outputs": [],
   "source": [
    "get_coinbase_at 0"
   ]
  }
 ],
 "metadata": {
  "kernelspec": {
   "display_name": "Bitcoin DSL",
   "language": "ruby",
   "name": "ruby"
  },
  "language_info": {
   "file_extension": ".rb",
   "mimetype": "application/x-ruby",
   "name": "ruby",
   "version": "3.3.0"
  }
 },
 "nbformat": 4,
 "nbformat_minor": 5
}
