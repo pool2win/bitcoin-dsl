{
 "cells": [
  {
   "cell_type": "code",
   "execution_count": null,
   "id": "b2a7831f-e600-47fa-b995-0b3b6eae7380",
   "metadata": {},
   "outputs": [],
   "source": [
    "extend_chain"
   ]
  },
  {
   "cell_type": "code",
   "execution_count": null,
   "id": "2ea42ca5-1a48-43c8-bc56-f726dbfe9e11",
   "metadata": {},
   "outputs": [],
   "source": [
    "get_height"
   ]
  },
  {
   "cell_type": "code",
   "execution_count": null,
   "id": "5534de3b-0bf3-4862-bc54-142438eddd2b",
   "metadata": {},
   "outputs": [],
   "source": [
    "extend_chain num_blocks: 10"
   ]
  },
  {
   "cell_type": "code",
   "execution_count": null,
   "id": "991fa262-76ee-4480-a072-ebdf26ee1c0a",
   "metadata": {},
   "outputs": [],
   "source": [
    "get_height"
   ]
  }
 ],
 "metadata": {
  "kernelspec": {
   "display_name": "Bitcoin DSL",
   "language": "ruby",
   "name": "ruby"
  },
  "language_info": {
   "file_extension": ".rb",
   "mimetype": "application/x-ruby",
   "name": "ruby",
   "version": "3.3.0"
  }
 },
 "nbformat": 4,
 "nbformat_minor": 5
}
